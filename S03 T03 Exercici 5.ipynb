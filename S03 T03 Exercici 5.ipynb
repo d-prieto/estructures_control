{
 "cells": [
  {
   "cell_type": "markdown",
   "metadata": {},
   "source": [
    "# Exercici 5\n",
    "\n",
    "Crea un programa que donada una llista, et digui quants números coincideixen amb la seva posició. Per exemple [3,4,2,0,2,3,6] el 2 i el 6 coincideixen.\n",
    "\n"
   ]
  },
  {
   "cell_type": "code",
   "execution_count": 18,
   "metadata": {},
   "outputs": [],
   "source": [
    "lista1 = [3,4,2,0,2,3,6]\n",
    "lista2 = [0,334,2,0,2, 5,555]\n",
    "lista3 = [0,45,23,3,2, 5,555, 7]\n",
    "lista4 = [0,\"Bodoque\",2,0,2, 5,555]"
   ]
  },
  {
   "cell_type": "code",
   "execution_count": 19,
   "metadata": {},
   "outputs": [
    {
     "name": "stdout",
     "output_type": "stream",
     "text": [
      "Los nùmeros de la lista \n",
      "[3, 4, 2, 0, 2, 3, 6]\n",
      "que coinciden son\n",
      "2\n",
      "Y son los siguientes: \n",
      "[2, 6]\n",
      "Los nùmeros de la lista \n",
      "[0, 334, 2, 0, 2, 5, 555]\n",
      "que coinciden son\n",
      "3\n",
      "Y son los siguientes: \n",
      "[0, 2, 5]\n",
      "Los nùmeros de la lista \n",
      "[0, 45, 23, 3, 2, 5, 555, 7]\n",
      "que coinciden son\n",
      "4\n",
      "Y son los siguientes: \n",
      "[0, 3, 5, 7]\n",
      "Los nùmeros de la lista \n",
      "[0, 'Bodoque', 2, 0, 2, 5, 555]\n",
      "que coinciden son\n",
      "3\n",
      "Y son los siguientes: \n",
      "[0, 2, 5]\n"
     ]
    }
   ],
   "source": [
    "def numerosQueCoincidenConSuPosicionIndiceCero(lista):\n",
    "    listaDeCoincidencias = []\n",
    "    for x in lista:\n",
    "        if type(x) is not int or x > len(lista)-1:\n",
    "            continue\n",
    "        if x == lista[x] and x not in listaDeCoincidencias:\n",
    "            listaDeCoincidencias.append(x)\n",
    "    print(\"Los nùmeros de la lista \")\n",
    "    print(lista)\n",
    "    print(\"que coinciden son\")\n",
    "    print(len(listaDeCoincidencias))\n",
    "    print(\"Y son los siguientes: \")\n",
    "    print(listaDeCoincidencias)\n",
    "\n",
    "numerosQueCoincidenConSuPosicionIndiceCero(lista1)\n",
    "numerosQueCoincidenConSuPosicionIndiceCero(lista2)\n",
    "numerosQueCoincidenConSuPosicionIndiceCero(lista3)\n",
    "numerosQueCoincidenConSuPosicionIndiceCero(lista4)"
   ]
  },
  {
   "cell_type": "markdown",
   "metadata": {},
   "source": [
    "Parece que poner variable lista si lo igualas a [] queda como una lista vacìa y funciona  =D\n",
    "\n",
    "\n",
    "\n",
    "Esto no parece funcionar porque el cuarto elemento en la primera lista lo añade cuando no deberìa. \n",
    "\n",
    "```python \n",
    "def numerosQueCoincidenConSuPosicionIndiceCero(lista):\n",
    "    listaDeCoincidencias = []\n",
    "    for x in lista:\n",
    "        if x == lista[x]:\n",
    "            listaDeCoincidencias.append(x)\n",
    "    print(\"Los nùmeros de la lista \")\n",
    "    print(lista)\n",
    "    print(\"que coinciden son\")\n",
    "    print(len(listaDeCoincidencias))\n",
    "    print(\"Y son los siguientes: \")\n",
    "    print(listaDeCoincidencias)\n",
    "\n",
    "\n",
    "```\n",
    "\n",
    "Se soluciona con que busque si no lo ha añadido antes. Me alegra que la soluciòn sea bastante legible\n",
    "\n",
    "Habìa probado con listas que tuvieran también strings\n",
    "\n",
    "```python \n",
    "lista2 = [0,\"Bodoque\",2,0,2, 5,555]\n",
    "```\n",
    "\n",
    "peeeero, da error porque claro si buscas lista[Bodoque] te manda muy a la porra. No me apetece hacer esa diferenciaciòn asì que lo voy a dejar solo con listas numéricas. \n",
    "\n",
    "Nah, tampoco funciona porque se dice que luego va out of range. En fin, tocarà retocar el código con otro if en nido\n",
    "\n",
    "\n",
    "Al final se soluciona con un continue que revisa el tipo de la lista y que no se salga del rango. Yay."
   ]
  },
  {
   "cell_type": "code",
   "execution_count": null,
   "metadata": {},
   "outputs": [],
   "source": []
  }
 ],
 "metadata": {
  "kernelspec": {
   "display_name": "Python 3",
   "language": "python",
   "name": "python3"
  },
  "language_info": {
   "codemirror_mode": {
    "name": "ipython",
    "version": 3
   },
   "file_extension": ".py",
   "mimetype": "text/x-python",
   "name": "python",
   "nbconvert_exporter": "python",
   "pygments_lexer": "ipython3",
   "version": "3.7.6"
  }
 },
 "nbformat": 4,
 "nbformat_minor": 4
}
