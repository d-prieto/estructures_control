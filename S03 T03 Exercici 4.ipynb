{
 "cells": [
  {
   "cell_type": "markdown",
   "metadata": {},
   "source": [
    "# Exercici 4\n",
    "\n",
    "Crea un programa que donada una llista qualsevol, et digui si es simètrica o no. Si ho és, que et digui quants elements té.\n",
    "\n",
    "Para esto voy a entender que una lista simétrica es aquella que si se ordena del revés es igual que ella misma. Por ejemplo (1,2,1) es una lista simétrica. "
   ]
  },
  {
   "cell_type": "code",
   "execution_count": 1,
   "metadata": {},
   "outputs": [],
   "source": [
    "listaSimetrica1 = [1,2,1]\n",
    "listaSimetrica2 = [\"Pepe\", \"Juan\", \"Juan\", \"Pepe\"]\n",
    "listaNoSimetrica1 = [1,2]\n",
    "listaNoSimetrica2 = [\"Pennywise\", \"it\"]\n"
   ]
  },
  {
   "cell_type": "markdown",
   "metadata": {},
   "source": [
    "Recordar que las listas van con corchetes, entre paréntesis se convierten en tuplas"
   ]
  },
  {
   "cell_type": "code",
   "execution_count": 15,
   "metadata": {},
   "outputs": [
    {
     "name": "stdout",
     "output_type": "stream",
     "text": [
      "La lista: \n",
      "(1, 2, 1)\n",
      "Es simétrica y tiene\n",
      "3\n",
      "elementos\n",
      "La lista: \n",
      "('Pepe', 'Juan', 'Juan', 'Pepe')\n",
      "Es simétrica y tiene\n",
      "4\n",
      "elementos\n",
      "La lista: \n",
      "(1, 2)\n",
      "No es simétrica\n",
      "La lista: \n",
      "('Pennywise', 'it')\n",
      "No es simétrica\n"
     ]
    }
   ],
   "source": [
    "def listaSimetricaOno(lista):\n",
    "    longitudLista = len(lista)\n",
    "    print(\"La lista: \")\n",
    "    print(lista)\n",
    "    for x in range(longitudLista//2):\n",
    "        if lista[x] != lista[longitudLista-x-1]:\n",
    "            print(\"No es simétrica\")\n",
    "            return\n",
    "    print(\"Es simétrica y tiene\")\n",
    "    print(longitudLista)\n",
    "    print(\"elementos\")\n",
    "\n",
    "listaSimetricaOno(listaSimetrica1)\n",
    "listaSimetricaOno(listaSimetrica2)\n",
    "listaSimetricaOno(listaNoSimetrica1)\n",
    "listaSimetricaOno(listaNoSimetrica2)"
   ]
  },
  {
   "cell_type": "markdown",
   "metadata": {},
   "source": [
    "Hay que revisar que no haga toooda la lista, sino la mitad, porque si no cuando x pasa de la mitad nunca sale simétrica. Asì que en vez de for x in lista uso esta otra expresión y la divido entre dos. \n",
    "\n",
    "La división con // en este caso es muy útil para no tener floats sino números enteros guays\n",
    "\n",
    "Tambièn en este caso hay que poner longitudlista-x-1 porque la longitud es total pero el ìndice tiene un valor menos porque ìndice 0\n",
    "\n",
    "Y para que no de problemas concatenando mejor poner los prints en diferentes lìneas\n"
   ]
  },
  {
   "cell_type": "code",
   "execution_count": null,
   "metadata": {},
   "outputs": [],
   "source": []
  }
 ],
 "metadata": {
  "kernelspec": {
   "display_name": "Python 3",
   "language": "python",
   "name": "python3"
  },
  "language_info": {
   "codemirror_mode": {
    "name": "ipython",
    "version": 3
   },
   "file_extension": ".py",
   "mimetype": "text/x-python",
   "name": "python",
   "nbconvert_exporter": "python",
   "pygments_lexer": "ipython3",
   "version": "3.7.6"
  }
 },
 "nbformat": 4,
 "nbformat_minor": 4
}
