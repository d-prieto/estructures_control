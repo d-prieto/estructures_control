{
 "cells": [
  {
   "cell_type": "markdown",
   "metadata": {},
   "source": [
    "# Exercici 3\n",
    "\n",
    "Crea un programa que et pregunti el teu nom, i et demani un número. Si el número és 0, hauria de mostrar un missatge d’error. En cas contrari, hauria de mostrar el nom repetit tants cops com indiqui el número. Per exemple, “Joan Joan Joan”."
   ]
  },
  {
   "cell_type": "code",
   "execution_count": 2,
   "metadata": {},
   "outputs": [
    {
     "name": "stdout",
     "output_type": "stream",
     "text": [
      "Dime un nombre para repetir: PEPE\n",
      "Dame un número de veces que hay que repetir el nombre: 3\n",
      "PEPE\n",
      "PEPE\n",
      "PEPE\n"
     ]
    }
   ],
   "source": [
    "nombre = input(\"Dime un nombre para repetir: \")\n",
    "numero = int(input(\"Dame un número de veces que hay que repetir el nombre: \"))\n",
    "\n",
    "if numero < 1:\n",
    "    print(\"No va a ser, mi ciela\")\n",
    "else:\n",
    "    for x in range(numero):\n",
    "        print(nombre)"
   ]
  },
  {
   "cell_type": "markdown",
   "metadata": {},
   "source": [
    "Veo que para repetir algo un determinado nùmero de veces, usar la función rango esá guay"
   ]
  },
  {
   "cell_type": "code",
   "execution_count": null,
   "metadata": {},
   "outputs": [],
   "source": []
  }
 ],
 "metadata": {
  "kernelspec": {
   "display_name": "Python 3",
   "language": "python",
   "name": "python3"
  },
  "language_info": {
   "codemirror_mode": {
    "name": "ipython",
    "version": 3
   },
   "file_extension": ".py",
   "mimetype": "text/x-python",
   "name": "python",
   "nbconvert_exporter": "python",
   "pygments_lexer": "ipython3",
   "version": "3.7.6"
  }
 },
 "nbformat": 4,
 "nbformat_minor": 4
}
