{
 "cells": [
  {
   "cell_type": "markdown",
   "metadata": {},
   "source": [
    "# Exercici 2\n",
    "\n",
    "Utilitzant el següent tutorial Programiz: Python Input, Output and Import crea un programa que et pregunti dos números. T’ha de mostrar un missatge dient si el primer és més gran, el segon és més gran o són iguals.\n",
    "\n",
    "(el enllaç es aquest: https://www.programiz.com/python-programming/input-output-import)"
   ]
  },
  {
   "cell_type": "code",
   "execution_count": 3,
   "metadata": {},
   "outputs": [
    {
     "name": "stdout",
     "output_type": "stream",
     "text": [
      "Dame el primer número, por favor: 2\n",
      "Dame el segundo número, por favor: 4\n",
      "El segundo nùmero es mayor\n"
     ]
    }
   ],
   "source": [
    "num1 = int(input(\"Dame el primer número, por favor: \"))\n",
    "num2 = int(input(\"Dame el segundo número, por favor: \"))\n",
    "\n",
    "if num1 > num2:\n",
    "    print(\"El primer número es mayor\")\n",
    "elif num1 == num2:\n",
    "    print(\"Los dos números son iguales\")\n",
    "else:\n",
    "    print(\"El segundo número es mayor\")"
   ]
  },
  {
   "cell_type": "code",
   "execution_count": null,
   "metadata": {},
   "outputs": [],
   "source": []
  }
 ],
 "metadata": {
  "kernelspec": {
   "display_name": "Python 3",
   "language": "python",
   "name": "python3"
  },
  "language_info": {
   "codemirror_mode": {
    "name": "ipython",
    "version": 3
   },
   "file_extension": ".py",
   "mimetype": "text/x-python",
   "name": "python",
   "nbconvert_exporter": "python",
   "pygments_lexer": "ipython3",
   "version": "3.7.6"
  }
 },
 "nbformat": 4,
 "nbformat_minor": 4
}
