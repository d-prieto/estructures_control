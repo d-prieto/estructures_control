{
 "cells": [
  {
   "cell_type": "markdown",
   "metadata": {},
   "source": [
    "# Exercici 1\n",
    "\n",
    "L'exercici consisteix a crear un programa que et classifiqui una variable numèrica en funció de l’escala Suspès/Aprovat/Notable/Excel·lent. "
   ]
  },
  {
   "cell_type": "code",
   "execution_count": 7,
   "metadata": {},
   "outputs": [],
   "source": [
    "nota = 5"
   ]
  },
  {
   "cell_type": "markdown",
   "metadata": {},
   "source": [
    "Utilizando el sistema español de 0 a 10:\n",
    "* Menos de 5 es suspenso\n",
    "* Desde el 5 hasta el 7 (sin incluir) es aprobado\n",
    "* A partir del 7 hasta el 9 (sin incluir) es notable\n",
    "* A partir del 9 es sobresaliente"
   ]
  },
  {
   "cell_type": "code",
   "execution_count": 8,
   "metadata": {},
   "outputs": [
    {
     "name": "stdout",
     "output_type": "stream",
     "text": [
      "Aprovat\n"
     ]
    }
   ],
   "source": [
    "def textoNotaEspañola(nota):\n",
    "    if nota < 5:\n",
    "        textoNota = \"Suspès\"\n",
    "    elif nota < 7:\n",
    "        textoNota = \"Aprovat\"\n",
    "    elif nota < 9:\n",
    "        textoNota = \"Notable\"\n",
    "    else:\n",
    "        textoNota = \"Excel·lent\"\n",
    "    print(textoNota)\n",
    "\n",
    "textoNotaEspañola(nota)"
   ]
  },
  {
   "cell_type": "markdown",
   "metadata": {},
   "source": [
    "Aprovecho para dejarlo como un input como se explica aquí: \n",
    "https://www.programiz.com/python-programming/input-output-import"
   ]
  },
  {
   "cell_type": "code",
   "execution_count": 10,
   "metadata": {},
   "outputs": [
    {
     "name": "stdout",
     "output_type": "stream",
     "text": [
      "Dame un número de nota: 9\n",
      "Excel·lent\n"
     ]
    }
   ],
   "source": [
    "textoNotaEspañola(int(input(\"Dame un número de nota: \")))"
   ]
  },
  {
   "cell_type": "markdown",
   "metadata": {},
   "source": [
    "Utilizando el sistema chilena de 1 a 7:\n",
    "\n",
    "* Menos de 4 es suspenso\n",
    "+ Más de 4 es aprobado (no hay más opciones)\n",
    "\n"
   ]
  },
  {
   "cell_type": "code",
   "execution_count": 11,
   "metadata": {},
   "outputs": [
    {
     "name": "stdout",
     "output_type": "stream",
     "text": [
      "Dame un número de nota: 4\n",
      "Aprobado\n"
     ]
    }
   ],
   "source": [
    "def textoNotaChilena(nota):\n",
    "    if nota < 4:\n",
    "        textoNota = \"Reprobado\"\n",
    "    else:\n",
    "        textoNota = \"Aprobado\"\n",
    "    print(textoNota)\n",
    "\n",
    "textoNotaChilena(int(input(\"Dame un número de nota: \")))"
   ]
  },
  {
   "cell_type": "code",
   "execution_count": null,
   "metadata": {},
   "outputs": [],
   "source": []
  }
 ],
 "metadata": {
  "kernelspec": {
   "display_name": "Python 3",
   "language": "python",
   "name": "python3"
  },
  "language_info": {
   "codemirror_mode": {
    "name": "ipython",
    "version": 3
   },
   "file_extension": ".py",
   "mimetype": "text/x-python",
   "name": "python",
   "nbconvert_exporter": "python",
   "pygments_lexer": "ipython3",
   "version": "3.7.6"
  }
 },
 "nbformat": 4,
 "nbformat_minor": 4
}
